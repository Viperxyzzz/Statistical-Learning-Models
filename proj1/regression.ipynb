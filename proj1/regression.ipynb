{
 "cells": [
  {
   "cell_type": "code",
   "execution_count": 7,
   "metadata": {},
   "outputs": [
    {
     "data": {
      "text/html": [
       "<div>\n",
       "<style scoped>\n",
       "    .dataframe tbody tr th:only-of-type {\n",
       "        vertical-align: middle;\n",
       "    }\n",
       "\n",
       "    .dataframe tbody tr th {\n",
       "        vertical-align: top;\n",
       "    }\n",
       "\n",
       "    .dataframe thead th {\n",
       "        text-align: right;\n",
       "    }\n",
       "</style>\n",
       "<table border=\"1\" class=\"dataframe\">\n",
       "  <thead>\n",
       "    <tr style=\"text-align: right;\">\n",
       "      <th></th>\n",
       "      <th>song_name</th>\n",
       "      <th>song_popularity</th>\n",
       "      <th>song_duration_ms</th>\n",
       "      <th>acousticness</th>\n",
       "      <th>danceability</th>\n",
       "      <th>energy</th>\n",
       "      <th>instrumentalness</th>\n",
       "      <th>key</th>\n",
       "      <th>liveness</th>\n",
       "      <th>loudness</th>\n",
       "      <th>audio_mode</th>\n",
       "      <th>speechiness</th>\n",
       "      <th>tempo</th>\n",
       "      <th>time_signature</th>\n",
       "      <th>audio_valence</th>\n",
       "    </tr>\n",
       "  </thead>\n",
       "  <tbody>\n",
       "    <tr>\n",
       "      <th>0</th>\n",
       "      <td>Boulevard of Broken Dreams</td>\n",
       "      <td>73</td>\n",
       "      <td>262333</td>\n",
       "      <td>0.005520</td>\n",
       "      <td>0.496</td>\n",
       "      <td>0.682</td>\n",
       "      <td>0.000029</td>\n",
       "      <td>8</td>\n",
       "      <td>0.0589</td>\n",
       "      <td>-4.095</td>\n",
       "      <td>1</td>\n",
       "      <td>0.0294</td>\n",
       "      <td>167.060</td>\n",
       "      <td>4</td>\n",
       "      <td>0.474</td>\n",
       "    </tr>\n",
       "    <tr>\n",
       "      <th>1</th>\n",
       "      <td>In The End</td>\n",
       "      <td>66</td>\n",
       "      <td>216933</td>\n",
       "      <td>0.010300</td>\n",
       "      <td>0.542</td>\n",
       "      <td>0.853</td>\n",
       "      <td>0.000000</td>\n",
       "      <td>3</td>\n",
       "      <td>0.1080</td>\n",
       "      <td>-6.407</td>\n",
       "      <td>0</td>\n",
       "      <td>0.0498</td>\n",
       "      <td>105.256</td>\n",
       "      <td>4</td>\n",
       "      <td>0.370</td>\n",
       "    </tr>\n",
       "    <tr>\n",
       "      <th>2</th>\n",
       "      <td>Seven Nation Army</td>\n",
       "      <td>76</td>\n",
       "      <td>231733</td>\n",
       "      <td>0.008170</td>\n",
       "      <td>0.737</td>\n",
       "      <td>0.463</td>\n",
       "      <td>0.447000</td>\n",
       "      <td>0</td>\n",
       "      <td>0.2550</td>\n",
       "      <td>-7.828</td>\n",
       "      <td>1</td>\n",
       "      <td>0.0792</td>\n",
       "      <td>123.881</td>\n",
       "      <td>4</td>\n",
       "      <td>0.324</td>\n",
       "    </tr>\n",
       "    <tr>\n",
       "      <th>3</th>\n",
       "      <td>By The Way</td>\n",
       "      <td>74</td>\n",
       "      <td>216933</td>\n",
       "      <td>0.026400</td>\n",
       "      <td>0.451</td>\n",
       "      <td>0.970</td>\n",
       "      <td>0.003550</td>\n",
       "      <td>0</td>\n",
       "      <td>0.1020</td>\n",
       "      <td>-4.938</td>\n",
       "      <td>1</td>\n",
       "      <td>0.1070</td>\n",
       "      <td>122.444</td>\n",
       "      <td>4</td>\n",
       "      <td>0.198</td>\n",
       "    </tr>\n",
       "    <tr>\n",
       "      <th>4</th>\n",
       "      <td>How You Remind Me</td>\n",
       "      <td>56</td>\n",
       "      <td>223826</td>\n",
       "      <td>0.000954</td>\n",
       "      <td>0.447</td>\n",
       "      <td>0.766</td>\n",
       "      <td>0.000000</td>\n",
       "      <td>10</td>\n",
       "      <td>0.1130</td>\n",
       "      <td>-5.065</td>\n",
       "      <td>1</td>\n",
       "      <td>0.0313</td>\n",
       "      <td>172.011</td>\n",
       "      <td>4</td>\n",
       "      <td>0.574</td>\n",
       "    </tr>\n",
       "  </tbody>\n",
       "</table>\n",
       "</div>"
      ],
      "text/plain": [
       "                    song_name  song_popularity  song_duration_ms  \\\n",
       "0  Boulevard of Broken Dreams               73            262333   \n",
       "1                  In The End               66            216933   \n",
       "2           Seven Nation Army               76            231733   \n",
       "3                  By The Way               74            216933   \n",
       "4           How You Remind Me               56            223826   \n",
       "\n",
       "   acousticness  danceability  energy  instrumentalness  key  liveness  \\\n",
       "0      0.005520         0.496   0.682          0.000029    8    0.0589   \n",
       "1      0.010300         0.542   0.853          0.000000    3    0.1080   \n",
       "2      0.008170         0.737   0.463          0.447000    0    0.2550   \n",
       "3      0.026400         0.451   0.970          0.003550    0    0.1020   \n",
       "4      0.000954         0.447   0.766          0.000000   10    0.1130   \n",
       "\n",
       "   loudness  audio_mode  speechiness    tempo  time_signature  audio_valence  \n",
       "0    -4.095           1       0.0294  167.060               4          0.474  \n",
       "1    -6.407           0       0.0498  105.256               4          0.370  \n",
       "2    -7.828           1       0.0792  123.881               4          0.324  \n",
       "3    -4.938           1       0.1070  122.444               4          0.198  \n",
       "4    -5.065           1       0.0313  172.011               4          0.574  "
      ]
     },
     "execution_count": 7,
     "metadata": {},
     "output_type": "execute_result"
    }
   ],
   "source": [
    "import pandas as pd\n",
    "import numpy as np\n",
    "\n",
    "df = pd.read_csv('song_data.csv')\n",
    "df.head()"
   ]
  },
  {
   "cell_type": "markdown",
   "metadata": {},
   "source": [
    "# Simple Regression\n",
    "\n",
    "Our independent variable is danceability \n",
    "\n",
    "\n",
    "Our dependent variable is song_popularity"
   ]
  },
  {
   "cell_type": "code",
   "execution_count": 13,
   "metadata": {},
   "outputs": [],
   "source": [
    "from sklearn import linear_model\n",
    "y = df['song_popularity']\n",
    "X = df['danceability']"
   ]
  },
  {
   "cell_type": "code",
   "execution_count": null,
   "metadata": {},
   "outputs": [],
   "source": [
    "simple_regr = linear_model.LinearRegression()\n",
    "simple_regr.fit(X, y)"
   ]
  },
  {
   "cell_type": "markdown",
   "metadata": {},
   "source": [
    "# Multiple Regression"
   ]
  },
  {
   "cell_type": "code",
   "execution_count": 8,
   "metadata": {},
   "outputs": [],
   "source": [
    "from sklearn import linear_model\n",
    "y = df['song_popularity']\n",
    "X = df[['song_duration_ms','danceability','energy','acousticness']]"
   ]
  },
  {
   "cell_type": "code",
   "execution_count": 9,
   "metadata": {},
   "outputs": [
    {
     "data": {
      "text/html": [
       "<style>#sk-container-id-2 {color: black;}#sk-container-id-2 pre{padding: 0;}#sk-container-id-2 div.sk-toggleable {background-color: white;}#sk-container-id-2 label.sk-toggleable__label {cursor: pointer;display: block;width: 100%;margin-bottom: 0;padding: 0.3em;box-sizing: border-box;text-align: center;}#sk-container-id-2 label.sk-toggleable__label-arrow:before {content: \"▸\";float: left;margin-right: 0.25em;color: #696969;}#sk-container-id-2 label.sk-toggleable__label-arrow:hover:before {color: black;}#sk-container-id-2 div.sk-estimator:hover label.sk-toggleable__label-arrow:before {color: black;}#sk-container-id-2 div.sk-toggleable__content {max-height: 0;max-width: 0;overflow: hidden;text-align: left;background-color: #f0f8ff;}#sk-container-id-2 div.sk-toggleable__content pre {margin: 0.2em;color: black;border-radius: 0.25em;background-color: #f0f8ff;}#sk-container-id-2 input.sk-toggleable__control:checked~div.sk-toggleable__content {max-height: 200px;max-width: 100%;overflow: auto;}#sk-container-id-2 input.sk-toggleable__control:checked~label.sk-toggleable__label-arrow:before {content: \"▾\";}#sk-container-id-2 div.sk-estimator input.sk-toggleable__control:checked~label.sk-toggleable__label {background-color: #d4ebff;}#sk-container-id-2 div.sk-label input.sk-toggleable__control:checked~label.sk-toggleable__label {background-color: #d4ebff;}#sk-container-id-2 input.sk-hidden--visually {border: 0;clip: rect(1px 1px 1px 1px);clip: rect(1px, 1px, 1px, 1px);height: 1px;margin: -1px;overflow: hidden;padding: 0;position: absolute;width: 1px;}#sk-container-id-2 div.sk-estimator {font-family: monospace;background-color: #f0f8ff;border: 1px dotted black;border-radius: 0.25em;box-sizing: border-box;margin-bottom: 0.5em;}#sk-container-id-2 div.sk-estimator:hover {background-color: #d4ebff;}#sk-container-id-2 div.sk-parallel-item::after {content: \"\";width: 100%;border-bottom: 1px solid gray;flex-grow: 1;}#sk-container-id-2 div.sk-label:hover label.sk-toggleable__label {background-color: #d4ebff;}#sk-container-id-2 div.sk-serial::before {content: \"\";position: absolute;border-left: 1px solid gray;box-sizing: border-box;top: 0;bottom: 0;left: 50%;z-index: 0;}#sk-container-id-2 div.sk-serial {display: flex;flex-direction: column;align-items: center;background-color: white;padding-right: 0.2em;padding-left: 0.2em;position: relative;}#sk-container-id-2 div.sk-item {position: relative;z-index: 1;}#sk-container-id-2 div.sk-parallel {display: flex;align-items: stretch;justify-content: center;background-color: white;position: relative;}#sk-container-id-2 div.sk-item::before, #sk-container-id-2 div.sk-parallel-item::before {content: \"\";position: absolute;border-left: 1px solid gray;box-sizing: border-box;top: 0;bottom: 0;left: 50%;z-index: -1;}#sk-container-id-2 div.sk-parallel-item {display: flex;flex-direction: column;z-index: 1;position: relative;background-color: white;}#sk-container-id-2 div.sk-parallel-item:first-child::after {align-self: flex-end;width: 50%;}#sk-container-id-2 div.sk-parallel-item:last-child::after {align-self: flex-start;width: 50%;}#sk-container-id-2 div.sk-parallel-item:only-child::after {width: 0;}#sk-container-id-2 div.sk-dashed-wrapped {border: 1px dashed gray;margin: 0 0.4em 0.5em 0.4em;box-sizing: border-box;padding-bottom: 0.4em;background-color: white;}#sk-container-id-2 div.sk-label label {font-family: monospace;font-weight: bold;display: inline-block;line-height: 1.2em;}#sk-container-id-2 div.sk-label-container {text-align: center;}#sk-container-id-2 div.sk-container {/* jupyter's `normalize.less` sets `[hidden] { display: none; }` but bootstrap.min.css set `[hidden] { display: none !important; }` so we also need the `!important` here to be able to override the default hidden behavior on the sphinx rendered scikit-learn.org. See: https://github.com/scikit-learn/scikit-learn/issues/21755 */display: inline-block !important;position: relative;}#sk-container-id-2 div.sk-text-repr-fallback {display: none;}</style><div id=\"sk-container-id-2\" class=\"sk-top-container\"><div class=\"sk-text-repr-fallback\"><pre>LinearRegression()</pre><b>In a Jupyter environment, please rerun this cell to show the HTML representation or trust the notebook. <br />On GitHub, the HTML representation is unable to render, please try loading this page with nbviewer.org.</b></div><div class=\"sk-container\" hidden><div class=\"sk-item\"><div class=\"sk-estimator sk-toggleable\"><input class=\"sk-toggleable__control sk-hidden--visually\" id=\"sk-estimator-id-2\" type=\"checkbox\" checked><label for=\"sk-estimator-id-2\" class=\"sk-toggleable__label sk-toggleable__label-arrow\">LinearRegression</label><div class=\"sk-toggleable__content\"><pre>LinearRegression()</pre></div></div></div></div></div>"
      ],
      "text/plain": [
       "LinearRegression()"
      ]
     },
     "execution_count": 9,
     "metadata": {},
     "output_type": "execute_result"
    }
   ],
   "source": [
    "regr = linear_model.LinearRegression()\n",
    "regr.fit(X, y)"
   ]
  },
  {
   "cell_type": "code",
   "execution_count": 10,
   "metadata": {},
   "outputs": [
    {
     "data": {
      "text/plain": [
       "0.015383930609290997"
      ]
     },
     "execution_count": 10,
     "metadata": {},
     "output_type": "execute_result"
    }
   ],
   "source": [
    "from sklearn.metrics import r2_score\n",
    "y_pred = regr.predict(X)\n",
    "r_squared = r2_score(y, y_pred)\n",
    "r_squared"
   ]
  },
  {
   "cell_type": "code",
   "execution_count": 11,
   "metadata": {},
   "outputs": [
    {
     "name": "stdout",
     "output_type": "stream",
     "text": [
      "[-4.66029452e-06  1.24490622e+01 -6.32103782e+00 -6.91281858e+00]\n",
      "51.988487143172655\n"
     ]
    }
   ],
   "source": [
    "coefficients = regr.coef_\n",
    "intercept = regr.intercept_\n",
    "print(coefficients)\n",
    "print(intercept)"
   ]
  },
  {
   "cell_type": "code",
   "execution_count": 12,
   "metadata": {},
   "outputs": [
    {
     "data": {
      "text/html": [
       "<table class=\"simpletable\">\n",
       "<caption>OLS Regression Results</caption>\n",
       "<tr>\n",
       "  <th>Dep. Variable:</th>     <td>song_popularity</td> <th>  R-squared:         </th> <td>   0.015</td> \n",
       "</tr>\n",
       "<tr>\n",
       "  <th>Model:</th>                   <td>OLS</td>       <th>  Adj. R-squared:    </th> <td>   0.015</td> \n",
       "</tr>\n",
       "<tr>\n",
       "  <th>Method:</th>             <td>Least Squares</td>  <th>  F-statistic:       </th> <td>   73.55</td> \n",
       "</tr>\n",
       "<tr>\n",
       "  <th>Date:</th>             <td>Thu, 26 Oct 2023</td> <th>  Prob (F-statistic):</th> <td>5.91e-62</td> \n",
       "</tr>\n",
       "<tr>\n",
       "  <th>Time:</th>                 <td>11:40:08</td>     <th>  Log-Likelihood:    </th> <td> -84718.</td> \n",
       "</tr>\n",
       "<tr>\n",
       "  <th>No. Observations:</th>      <td> 18835</td>      <th>  AIC:               </th> <td>1.694e+05</td>\n",
       "</tr>\n",
       "<tr>\n",
       "  <th>Df Residuals:</th>          <td> 18830</td>      <th>  BIC:               </th> <td>1.695e+05</td>\n",
       "</tr>\n",
       "<tr>\n",
       "  <th>Df Model:</th>              <td>     4</td>      <th>                     </th>     <td> </td>    \n",
       "</tr>\n",
       "<tr>\n",
       "  <th>Covariance Type:</th>      <td>nonrobust</td>    <th>                     </th>     <td> </td>    \n",
       "</tr>\n",
       "</table>\n",
       "<table class=\"simpletable\">\n",
       "<tr>\n",
       "          <td></td>            <th>coef</th>     <th>std err</th>      <th>t</th>      <th>P>|t|</th>  <th>[0.025</th>    <th>0.975]</th>  \n",
       "</tr>\n",
       "<tr>\n",
       "  <th>const</th>            <td>   51.9885</td> <td>    1.283</td> <td>   40.515</td> <td> 0.000</td> <td>   49.473</td> <td>   54.504</td>\n",
       "</tr>\n",
       "<tr>\n",
       "  <th>song_duration_ms</th> <td> -4.66e-06</td> <td> 2.68e-06</td> <td>   -1.739</td> <td> 0.082</td> <td>-9.91e-06</td> <td> 5.92e-07</td>\n",
       "</tr>\n",
       "<tr>\n",
       "  <th>danceability</th>     <td>   12.4491</td> <td>    1.041</td> <td>   11.954</td> <td> 0.000</td> <td>   10.408</td> <td>   14.490</td>\n",
       "</tr>\n",
       "<tr>\n",
       "  <th>energy</th>           <td>   -6.3210</td> <td>    0.994</td> <td>   -6.362</td> <td> 0.000</td> <td>   -8.268</td> <td>   -4.374</td>\n",
       "</tr>\n",
       "<tr>\n",
       "  <th>acousticness</th>     <td>   -6.9128</td> <td>    0.750</td> <td>   -9.212</td> <td> 0.000</td> <td>   -8.384</td> <td>   -5.442</td>\n",
       "</tr>\n",
       "</table>\n",
       "<table class=\"simpletable\">\n",
       "<tr>\n",
       "  <th>Omnibus:</th>       <td>835.020</td> <th>  Durbin-Watson:     </th> <td>   1.302</td> \n",
       "</tr>\n",
       "<tr>\n",
       "  <th>Prob(Omnibus):</th> <td> 0.000</td>  <th>  Jarque-Bera (JB):  </th> <td> 944.046</td> \n",
       "</tr>\n",
       "<tr>\n",
       "  <th>Skew:</th>          <td>-0.544</td>  <th>  Prob(JB):          </th> <td>1.01e-205</td>\n",
       "</tr>\n",
       "<tr>\n",
       "  <th>Kurtosis:</th>      <td> 2.861</td>  <th>  Cond. No.          </th> <td>2.42e+06</td> \n",
       "</tr>\n",
       "</table><br/><br/>Notes:<br/>[1] Standard Errors assume that the covariance matrix of the errors is correctly specified.<br/>[2] The condition number is large, 2.42e+06. This might indicate that there are<br/>strong multicollinearity or other numerical problems."
      ],
      "text/latex": [
       "\\begin{center}\n",
       "\\begin{tabular}{lclc}\n",
       "\\toprule\n",
       "\\textbf{Dep. Variable:}     & song\\_popularity & \\textbf{  R-squared:         } &     0.015   \\\\\n",
       "\\textbf{Model:}             &       OLS        & \\textbf{  Adj. R-squared:    } &     0.015   \\\\\n",
       "\\textbf{Method:}            &  Least Squares   & \\textbf{  F-statistic:       } &     73.55   \\\\\n",
       "\\textbf{Date:}              & Thu, 26 Oct 2023 & \\textbf{  Prob (F-statistic):} &  5.91e-62   \\\\\n",
       "\\textbf{Time:}              &     11:40:08     & \\textbf{  Log-Likelihood:    } &   -84718.   \\\\\n",
       "\\textbf{No. Observations:}  &       18835      & \\textbf{  AIC:               } & 1.694e+05   \\\\\n",
       "\\textbf{Df Residuals:}      &       18830      & \\textbf{  BIC:               } & 1.695e+05   \\\\\n",
       "\\textbf{Df Model:}          &           4      & \\textbf{                     } &             \\\\\n",
       "\\textbf{Covariance Type:}   &    nonrobust     & \\textbf{                     } &             \\\\\n",
       "\\bottomrule\n",
       "\\end{tabular}\n",
       "\\begin{tabular}{lcccccc}\n",
       "                            & \\textbf{coef} & \\textbf{std err} & \\textbf{t} & \\textbf{P$> |$t$|$} & \\textbf{[0.025} & \\textbf{0.975]}  \\\\\n",
       "\\midrule\n",
       "\\textbf{const}              &      51.9885  &        1.283     &    40.515  &         0.000        &       49.473    &       54.504     \\\\\n",
       "\\textbf{song\\_duration\\_ms} &    -4.66e-06  &     2.68e-06     &    -1.739  &         0.082        &    -9.91e-06    &     5.92e-07     \\\\\n",
       "\\textbf{danceability}       &      12.4491  &        1.041     &    11.954  &         0.000        &       10.408    &       14.490     \\\\\n",
       "\\textbf{energy}             &      -6.3210  &        0.994     &    -6.362  &         0.000        &       -8.268    &       -4.374     \\\\\n",
       "\\textbf{acousticness}       &      -6.9128  &        0.750     &    -9.212  &         0.000        &       -8.384    &       -5.442     \\\\\n",
       "\\bottomrule\n",
       "\\end{tabular}\n",
       "\\begin{tabular}{lclc}\n",
       "\\textbf{Omnibus:}       & 835.020 & \\textbf{  Durbin-Watson:     } &     1.302  \\\\\n",
       "\\textbf{Prob(Omnibus):} &   0.000 & \\textbf{  Jarque-Bera (JB):  } &   944.046  \\\\\n",
       "\\textbf{Skew:}          &  -0.544 & \\textbf{  Prob(JB):          } & 1.01e-205  \\\\\n",
       "\\textbf{Kurtosis:}      &   2.861 & \\textbf{  Cond. No.          } &  2.42e+06  \\\\\n",
       "\\bottomrule\n",
       "\\end{tabular}\n",
       "%\\caption{OLS Regression Results}\n",
       "\\end{center}\n",
       "\n",
       "Notes: \\newline\n",
       " [1] Standard Errors assume that the covariance matrix of the errors is correctly specified. \\newline\n",
       " [2] The condition number is large, 2.42e+06. This might indicate that there are \\newline\n",
       " strong multicollinearity or other numerical problems."
      ],
      "text/plain": [
       "<class 'statsmodels.iolib.summary.Summary'>\n",
       "\"\"\"\n",
       "                            OLS Regression Results                            \n",
       "==============================================================================\n",
       "Dep. Variable:        song_popularity   R-squared:                       0.015\n",
       "Model:                            OLS   Adj. R-squared:                  0.015\n",
       "Method:                 Least Squares   F-statistic:                     73.55\n",
       "Date:                Thu, 26 Oct 2023   Prob (F-statistic):           5.91e-62\n",
       "Time:                        11:40:08   Log-Likelihood:                -84718.\n",
       "No. Observations:               18835   AIC:                         1.694e+05\n",
       "Df Residuals:                   18830   BIC:                         1.695e+05\n",
       "Df Model:                           4                                         \n",
       "Covariance Type:            nonrobust                                         \n",
       "====================================================================================\n",
       "                       coef    std err          t      P>|t|      [0.025      0.975]\n",
       "------------------------------------------------------------------------------------\n",
       "const               51.9885      1.283     40.515      0.000      49.473      54.504\n",
       "song_duration_ms  -4.66e-06   2.68e-06     -1.739      0.082   -9.91e-06    5.92e-07\n",
       "danceability        12.4491      1.041     11.954      0.000      10.408      14.490\n",
       "energy              -6.3210      0.994     -6.362      0.000      -8.268      -4.374\n",
       "acousticness        -6.9128      0.750     -9.212      0.000      -8.384      -5.442\n",
       "==============================================================================\n",
       "Omnibus:                      835.020   Durbin-Watson:                   1.302\n",
       "Prob(Omnibus):                  0.000   Jarque-Bera (JB):              944.046\n",
       "Skew:                          -0.544   Prob(JB):                    1.01e-205\n",
       "Kurtosis:                       2.861   Cond. No.                     2.42e+06\n",
       "==============================================================================\n",
       "\n",
       "Notes:\n",
       "[1] Standard Errors assume that the covariance matrix of the errors is correctly specified.\n",
       "[2] The condition number is large, 2.42e+06. This might indicate that there are\n",
       "strong multicollinearity or other numerical problems.\n",
       "\"\"\""
      ]
     },
     "execution_count": 12,
     "metadata": {},
     "output_type": "execute_result"
    }
   ],
   "source": [
    "import statsmodels.api as sm\n",
    "X = sm.add_constant(X)\n",
    "model = sm.OLS(y, X).fit()\n",
    "summary = model.summary()\n",
    "summary"
   ]
  }
 ],
 "metadata": {
  "kernelspec": {
   "display_name": "Python 3",
   "language": "python",
   "name": "python3"
  },
  "language_info": {
   "codemirror_mode": {
    "name": "ipython",
    "version": 3
   },
   "file_extension": ".py",
   "mimetype": "text/x-python",
   "name": "python",
   "nbconvert_exporter": "python",
   "pygments_lexer": "ipython3",
   "version": "3.8.10"
  }
 },
 "nbformat": 4,
 "nbformat_minor": 2
}
