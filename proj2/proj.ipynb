{
 "cells": [
  {
   "cell_type": "code",
   "execution_count": 518,
   "metadata": {},
   "outputs": [
    {
     "data": {
      "text/html": [
       "<div>\n",
       "<style scoped>\n",
       "    .dataframe tbody tr th:only-of-type {\n",
       "        vertical-align: middle;\n",
       "    }\n",
       "\n",
       "    .dataframe tbody tr th {\n",
       "        vertical-align: top;\n",
       "    }\n",
       "\n",
       "    .dataframe thead th {\n",
       "        text-align: right;\n",
       "    }\n",
       "</style>\n",
       "<table border=\"1\" class=\"dataframe\">\n",
       "  <thead>\n",
       "    <tr style=\"text-align: right;\">\n",
       "      <th></th>\n",
       "      <th>age</th>\n",
       "      <th>sex</th>\n",
       "      <th>bmi</th>\n",
       "      <th>children</th>\n",
       "      <th>smoker</th>\n",
       "      <th>region</th>\n",
       "      <th>charges</th>\n",
       "    </tr>\n",
       "  </thead>\n",
       "  <tbody>\n",
       "    <tr>\n",
       "      <th>0</th>\n",
       "      <td>19</td>\n",
       "      <td>female</td>\n",
       "      <td>27.900</td>\n",
       "      <td>0</td>\n",
       "      <td>yes</td>\n",
       "      <td>southwest</td>\n",
       "      <td>16884.92400</td>\n",
       "    </tr>\n",
       "    <tr>\n",
       "      <th>1</th>\n",
       "      <td>18</td>\n",
       "      <td>male</td>\n",
       "      <td>33.770</td>\n",
       "      <td>1</td>\n",
       "      <td>no</td>\n",
       "      <td>southeast</td>\n",
       "      <td>1725.55230</td>\n",
       "    </tr>\n",
       "    <tr>\n",
       "      <th>2</th>\n",
       "      <td>28</td>\n",
       "      <td>male</td>\n",
       "      <td>33.000</td>\n",
       "      <td>3</td>\n",
       "      <td>no</td>\n",
       "      <td>southeast</td>\n",
       "      <td>4449.46200</td>\n",
       "    </tr>\n",
       "    <tr>\n",
       "      <th>3</th>\n",
       "      <td>33</td>\n",
       "      <td>male</td>\n",
       "      <td>22.705</td>\n",
       "      <td>0</td>\n",
       "      <td>no</td>\n",
       "      <td>northwest</td>\n",
       "      <td>21984.47061</td>\n",
       "    </tr>\n",
       "    <tr>\n",
       "      <th>4</th>\n",
       "      <td>32</td>\n",
       "      <td>male</td>\n",
       "      <td>28.880</td>\n",
       "      <td>0</td>\n",
       "      <td>no</td>\n",
       "      <td>northwest</td>\n",
       "      <td>3866.85520</td>\n",
       "    </tr>\n",
       "  </tbody>\n",
       "</table>\n",
       "</div>"
      ],
      "text/plain": [
       "   age     sex     bmi  children smoker     region      charges\n",
       "0   19  female  27.900         0    yes  southwest  16884.92400\n",
       "1   18    male  33.770         1     no  southeast   1725.55230\n",
       "2   28    male  33.000         3     no  southeast   4449.46200\n",
       "3   33    male  22.705         0     no  northwest  21984.47061\n",
       "4   32    male  28.880         0     no  northwest   3866.85520"
      ]
     },
     "execution_count": 518,
     "metadata": {},
     "output_type": "execute_result"
    }
   ],
   "source": [
    "import pandas as pd\n",
    "import seaborn as sns\n",
    "import numpy as np\n",
    "\n",
    "df = pd.read_csv('insurance.csv')\n",
    "df.head()"
   ]
  },
  {
   "cell_type": "code",
   "execution_count": 519,
   "metadata": {},
   "outputs": [],
   "source": [
    "d1 = {'male':0,'female':1}\n",
    "d2 = {'yes':1,'no':0}\n",
    "d3 = {'southwest':0,'southeast':1,'northwest':2,'northeast':3}\n",
    "\n",
    "df['sex'] = df['sex'].map(d1)\n",
    "df['smoker'] = df['smoker'].map(d2)\n",
    "df['region'] = df['region'].map(d3)"
   ]
  },
  {
   "cell_type": "markdown",
   "metadata": {},
   "source": [
    "# Variable Selection\n",
    "\n",
    "Carefully explain why the multiple regression model is constructed in the context of your own data and what is your choice of the dependent variable.\n",
    "Select independent variables using various methods, including correlation matrix, VIF indicator and Cp Mallow’s technique. From many possible optimal models select the final one and explain your choice.\n"
   ]
  },
  {
   "cell_type": "markdown",
   "metadata": {},
   "source": [
    "### Correlation Matrix"
   ]
  },
  {
   "cell_type": "code",
   "execution_count": 520,
   "metadata": {},
   "outputs": [
    {
     "data": {
      "text/plain": [
       "Index(['age', 'sex', 'bmi', 'children', 'smoker', 'region', 'charges'], dtype='object')"
      ]
     },
     "execution_count": 520,
     "metadata": {},
     "output_type": "execute_result"
    }
   ],
   "source": [
    "df.columns"
   ]
  },
  {
   "cell_type": "code",
   "execution_count": 521,
   "metadata": {},
   "outputs": [
    {
     "data": {
      "image/png": "[encoded data removed]",
      "text/plain": [
       "<Figure size 432x288 with 2 Axes>"
      ]
     },
     "metadata": {
      "needs_background": "light"
     },
     "output_type": "display_data"
    }
   ],
   "source": [
    "import seaborn as sns\n",
    "sns.heatmap(df.corr(),annot=True)\n",
    "\n",
    "#looking at our heatmap we can conclude that age, bmi and smoker are the most important features\n",
    "correlation_matrix_features = ['age','bmi','smoker']"
   ]
  },
  {
   "cell_type": "markdown",
   "metadata": {},
   "source": [
    "### VIF Indicator"
   ]
  },
  {
   "cell_type": "code",
   "execution_count": 522,
   "metadata": {},
   "outputs": [
    {
     "name": "stdout",
     "output_type": "stream",
     "text": [
      "    feature       VIF\n",
      "0       age  7.832033\n",
      "1       sex  1.918058\n",
      "2       bmi  8.974743\n",
      "3  children  1.799475\n",
      "4    smoker  1.252796\n",
      "5    region  2.534044\n"
     ]
    }
   ],
   "source": [
    "from statsmodels.stats.outliers_influence import variance_inflation_factor\n",
    "X = df[['age', 'sex', 'bmi', 'children', 'smoker', 'region']]\n",
    "vif_data = pd.DataFrame()\n",
    "vif_data[\"feature\"] = X.columns\n",
    "vif_data[\"VIF\"] = [variance_inflation_factor(X.values, i) for i in range(len(X.columns))]\n",
    "print(vif_data)\n"
   ]
  },
  {
   "cell_type": "code",
   "execution_count": 523,
   "metadata": {},
   "outputs": [
    {
     "name": "stdout",
     "output_type": "stream",
     "text": [
      "    feature       VIF\n",
      "0       sex  1.897687\n",
      "1       bmi  4.021313\n",
      "2  children  1.783495\n",
      "3    smoker  1.252612\n",
      "4    region  2.472051\n"
     ]
    }
   ],
   "source": [
    "#removing age \n",
    "from statsmodels.stats.outliers_influence import variance_inflation_factor\n",
    "X = df[['sex', 'bmi', 'children', 'smoker', 'region']]\n",
    "vif_data = pd.DataFrame()\n",
    "vif_data[\"feature\"] = X.columns\n",
    "vif_data[\"VIF\"] = [variance_inflation_factor(X.values, i) for i in range(len(X.columns))]\n",
    "print(vif_data)\n"
   ]
  },
  {
   "cell_type": "code",
   "execution_count": 524,
   "metadata": {},
   "outputs": [
    {
     "name": "stdout",
     "output_type": "stream",
     "text": [
      "    feature       VIF\n",
      "0       age  3.509299\n",
      "1       sex  1.838189\n",
      "2  children  1.730943\n",
      "3    smoker  1.224348\n",
      "4    region  2.395542\n"
     ]
    }
   ],
   "source": [
    "#removing bmi\n",
    "from statsmodels.stats.outliers_influence import variance_inflation_factor\n",
    "X = df[['age', 'sex', 'children', 'smoker', 'region']]\n",
    "vif_data = pd.DataFrame()\n",
    "vif_data[\"feature\"] = X.columns\n",
    "vif_data[\"VIF\"] = [variance_inflation_factor(X.values, i) for i in range(len(X.columns))]\n",
    "print(vif_data)\n"
   ]
  },
  {
   "cell_type": "code",
   "execution_count": 525,
   "metadata": {},
   "outputs": [
    {
     "name": "stdout",
     "output_type": "stream",
     "text": [
      "F statistic:  0.7924327534321977\n",
      "R2 score:  0.7924327534321977\n",
      "F statistic:  0.7962732059725786\n",
      "R2 score:  0.7962732059725786\n",
      "F statistic:  0.7704906224673702\n",
      "R2 score:  0.7704906224673702\n",
      "F statistic:  0.6997494064441712\n",
      "R2 score:  0.6997494064441712\n"
     ]
    },
    {
     "data": {
      "text/html": [
       "<style>#sk-container-id-30 {color: black;}#sk-container-id-30 pre{padding: 0;}#sk-container-id-30 div.sk-toggleable {background-color: white;}#sk-container-id-30 label.sk-toggleable__label {cursor: pointer;display: block;width: 100%;margin-bottom: 0;padding: 0.3em;box-sizing: border-box;text-align: center;}#sk-container-id-30 label.sk-toggleable__label-arrow:before {content: \"▸\";float: left;margin-right: 0.25em;color: #696969;}#sk-container-id-30 label.sk-toggleable__label-arrow:hover:before {color: black;}#sk-container-id-30 div.sk-estimator:hover label.sk-toggleable__label-arrow:before {color: black;}#sk-container-id-30 div.sk-toggleable__content {max-height: 0;max-width: 0;overflow: hidden;text-align: left;background-color: #f0f8ff;}#sk-container-id-30 div.sk-toggleable__content pre {margin: 0.2em;color: black;border-radius: 0.25em;background-color: #f0f8ff;}#sk-container-id-30 input.sk-toggleable__control:checked~div.sk-toggleable__content {max-height: 200px;max-width: 100%;overflow: auto;}#sk-container-id-30 input.sk-toggleable__control:checked~label.sk-toggleable__label-arrow:before {content: \"▾\";}#sk-container-id-30 div.sk-estimator input.sk-toggleable__control:checked~label.sk-toggleable__label {background-color: #d4ebff;}#sk-container-id-30 div.sk-label input.sk-toggleable__control:checked~label.sk-toggleable__label {background-color: #d4ebff;}#sk-container-id-30 input.sk-hidden--visually {border: 0;clip: rect(1px 1px 1px 1px);clip: rect(1px, 1px, 1px, 1px);height: 1px;margin: -1px;overflow: hidden;padding: 0;position: absolute;width: 1px;}#sk-container-id-30 div.sk-estimator {font-family: monospace;background-color: #f0f8ff;border: 1px dotted black;border-radius: 0.25em;box-sizing: border-box;margin-bottom: 0.5em;}#sk-container-id-30 div.sk-estimator:hover {background-color: #d4ebff;}#sk-container-id-30 div.sk-parallel-item::after {content: \"\";width: 100%;border-bottom: 1px solid gray;flex-grow: 1;}#sk-container-id-30 div.sk-label:hover label.sk-toggleable__label {background-color: #d4ebff;}#sk-container-id-30 div.sk-serial::before {content: \"\";position: absolute;border-left: 1px solid gray;box-sizing: border-box;top: 0;bottom: 0;left: 50%;z-index: 0;}#sk-container-id-30 div.sk-serial {display: flex;flex-direction: column;align-items: center;background-color: white;padding-right: 0.2em;padding-left: 0.2em;position: relative;}#sk-container-id-30 div.sk-item {position: relative;z-index: 1;}#sk-container-id-30 div.sk-parallel {display: flex;align-items: stretch;justify-content: center;background-color: white;position: relative;}#sk-container-id-30 div.sk-item::before, #sk-container-id-30 div.sk-parallel-item::before {content: \"\";position: absolute;border-left: 1px solid gray;box-sizing: border-box;top: 0;bottom: 0;left: 50%;z-index: -1;}#sk-container-id-30 div.sk-parallel-item {display: flex;flex-direction: column;z-index: 1;position: relative;background-color: white;}#sk-container-id-30 div.sk-parallel-item:first-child::after {align-self: flex-end;width: 50%;}#sk-container-id-30 div.sk-parallel-item:last-child::after {align-self: flex-start;width: 50%;}#sk-container-id-30 div.sk-parallel-item:only-child::after {width: 0;}#sk-container-id-30 div.sk-dashed-wrapped {border: 1px dashed gray;margin: 0 0.4em 0.5em 0.4em;box-sizing: border-box;padding-bottom: 0.4em;background-color: white;}#sk-container-id-30 div.sk-label label {font-family: monospace;font-weight: bold;display: inline-block;line-height: 1.2em;}#sk-container-id-30 div.sk-label-container {text-align: center;}#sk-container-id-30 div.sk-container {/* jupyter's `normalize.less` sets `[hidden] { display: none; }` but bootstrap.min.css set `[hidden] { display: none !important; }` so we also need the `!important` here to be able to override the default hidden behavior on the sphinx rendered scikit-learn.org. See: https://github.com/scikit-learn/scikit-learn/issues/21755 */display: inline-block !important;position: relative;}#sk-container-id-30 div.sk-text-repr-fallback {display: none;}</style><div id=\"sk-container-id-30\" class=\"sk-top-container\"><div class=\"sk-text-repr-fallback\"><pre>LinearRegression()</pre><b>In a Jupyter environment, please rerun this cell to show the HTML representation or trust the notebook. <br />On GitHub, the HTML representation is unable to render, please try loading this page with nbviewer.org.</b></div><div class=\"sk-container\" hidden><div class=\"sk-item\"><div class=\"sk-estimator sk-toggleable\"><input class=\"sk-toggleable__control sk-hidden--visually\" id=\"sk-estimator-id-30\" type=\"checkbox\" checked><label for=\"sk-estimator-id-30\" class=\"sk-toggleable__label sk-toggleable__label-arrow\">LinearRegression</label><div class=\"sk-toggleable__content\"><pre>LinearRegression()</pre></div></div></div></div></div>"
      ],
      "text/plain": [
       "LinearRegression()"
      ]
     },
     "execution_count": 525,
     "metadata": {},
     "output_type": "execute_result"
    }
   ],
   "source": [
    "from sklearn import linear_model\n",
    "from sklearn.model_selection import train_test_split\n",
    "from sklearn.metrics import r2_score\n",
    "from statsmodels.formula.api import ols\n",
    "\n",
    "def fit_multivar_regression(columns):\n",
    "\n",
    "    y = df['charges']   \n",
    "    X = df[columns]\n",
    "\n",
    "    #splitting the data into training and testing data\n",
    "    X_train,X_test,y_train,y_test = train_test_split(X,y,random_state=0)\n",
    "\n",
    "    #creating the model\n",
    "    model = linear_model.LinearRegression()\n",
    "    model.fit(X_train,y_train)\n",
    "\n",
    "    #predicting the values\n",
    "    y_pred = model.predict(X_test)  \n",
    "    \n",
    "    #do the f statistic\n",
    "    #do the t statistic\n",
    "    #do the r2 score\n",
    "    print('F statistic: ',model.score(X_test,y_test))\n",
    "    print('R2 score: ',r2_score(y_test,y_pred))\n",
    "    return model\n",
    "\n",
    "fit_multivar_regression(correlation_matrix_features)\n",
    "fit_multivar_regression(['age','bmi','smoker','children','region','sex'])\n",
    "fit_multivar_regression(['age','smoker','children','sex','region'])\n",
    "fit_multivar_regression(['bmi','smoker','children','sex','region'])"
   ]
  },
  {
   "cell_type": "markdown",
   "metadata": {},
   "source": [
    "#### Getting the f values"
   ]
  },
  {
   "cell_type": "code",
   "execution_count": 526,
   "metadata": {},
   "outputs": [
    {
     "name": "stdout",
     "output_type": "stream",
     "text": [
      "                            OLS Regression Results                            \n",
      "==============================================================================\n",
      "Dep. Variable:                charges   R-squared:                       0.751\n",
      "Model:                            OLS   Adj. R-squared:                  0.750\n",
      "Method:                 Least Squares   F-statistic:                     802.2\n",
      "Date:                Wed, 13 Dec 2023   Prob (F-statistic):               0.00\n",
      "Time:                        17:58:51   Log-Likelihood:                -13548.\n",
      "No. Observations:                1338   AIC:                         2.711e+04\n",
      "Df Residuals:                    1332   BIC:                         2.714e+04\n",
      "Df Model:                           5                                         \n",
      "Covariance Type:            nonrobust                                         \n",
      "==============================================================================\n",
      "                 coef    std err          t      P>|t|      [0.025      0.975]\n",
      "------------------------------------------------------------------------------\n",
      "Intercept  -1.293e+04   1004.940    -12.864      0.000   -1.49e+04    -1.1e+04\n",
      "age          257.4050     11.878     21.670      0.000     234.103     280.707\n",
      "bmi          332.0420     27.681     11.995      0.000     277.739     386.345\n",
      "smoker      2.381e+04    410.543     57.992      0.000     2.3e+04    2.46e+04\n",
      "children     478.4405    137.580      3.478      0.001     208.543     748.338\n",
      "region       353.4491    151.878      2.327      0.020      55.504     651.395\n",
      "==============================================================================\n",
      "Omnibus:                      299.380   Durbin-Watson:                   2.088\n",
      "Prob(Omnibus):                  0.000   Jarque-Bera (JB):              715.644\n",
      "Skew:                           1.208   Prob(JB):                    3.98e-156\n",
      "Kurtosis:                       5.646   Cond. No.                         312.\n",
      "==============================================================================\n",
      "\n",
      "Notes:\n",
      "[1] Standard Errors assume that the covariance matrix of the errors is correctly specified.\n"
     ]
    }
   ],
   "source": [
    "model1 = ols(\"charges ~ age + bmi + smoker + children + region\", data=df).fit()\n",
    "print(model1.summary())"
   ]
  },
  {
   "cell_type": "code",
   "execution_count": 527,
   "metadata": {},
   "outputs": [
    {
     "name": "stdout",
     "output_type": "stream",
     "text": [
      "                            OLS Regression Results                            \n",
      "==============================================================================\n",
      "Dep. Variable:                charges   R-squared:                       0.724\n",
      "Model:                            OLS   Adj. R-squared:                  0.723\n",
      "Method:                 Least Squares   F-statistic:                     873.2\n",
      "Date:                Wed, 13 Dec 2023   Prob (F-statistic):               0.00\n",
      "Time:                        17:58:51   Log-Likelihood:                -13617.\n",
      "No. Observations:                1338   AIC:                         2.724e+04\n",
      "Df Residuals:                    1333   BIC:                         2.727e+04\n",
      "Df Model:                           4                                         \n",
      "Covariance Type:            nonrobust                                         \n",
      "==============================================================================\n",
      "                 coef    std err          t      P>|t|      [0.025      0.975]\n",
      "------------------------------------------------------------------------------\n",
      "Intercept  -2950.1138    593.462     -4.971      0.000   -4114.335   -1785.893\n",
      "age          273.0958     12.423     21.984      0.000     248.726     297.466\n",
      "smoker      2.384e+04    431.976     55.193      0.000     2.3e+04    2.47e+04\n",
      "children     487.6409    144.764      3.369      0.001     203.650     771.631\n",
      "region        65.2517    157.798      0.414      0.679    -244.308     374.812\n",
      "==============================================================================\n",
      "Omnibus:                      265.112   Durbin-Watson:                   2.089\n",
      "Prob(Omnibus):                  0.000   Jarque-Bera (JB):              646.364\n",
      "Skew:                           1.067   Prob(JB):                    4.40e-141\n",
      "Kurtosis:                       5.653   Cond. No.                         145.\n",
      "==============================================================================\n",
      "\n",
      "Notes:\n",
      "[1] Standard Errors assume that the covariance matrix of the errors is correctly specified.\n"
     ]
    }
   ],
   "source": [
    "model2 = ols(\"charges ~ age + smoker + children + region\", data=df).fit()\n",
    "print(model2.summary())\n"
   ]
  },
  {
   "cell_type": "code",
   "execution_count": 528,
   "metadata": {},
   "outputs": [
    {
     "name": "stdout",
     "output_type": "stream",
     "text": [
      "                            OLS Regression Results                            \n",
      "==============================================================================\n",
      "Dep. Variable:                charges   R-squared:                       0.663\n",
      "Model:                            OLS   Adj. R-squared:                  0.662\n",
      "Method:                 Least Squares   F-statistic:                     655.1\n",
      "Date:                Wed, 13 Dec 2023   Prob (F-statistic):          9.25e-313\n",
      "Time:                        17:58:51   Log-Likelihood:                -13750.\n",
      "No. Observations:                1338   AIC:                         2.751e+04\n",
      "Df Residuals:                    1333   BIC:                         2.754e+04\n",
      "Df Model:                           4                                         \n",
      "Covariance Type:            nonrobust                                         \n",
      "==============================================================================\n",
      "                 coef    std err          t      P>|t|      [0.025      0.975]\n",
      "------------------------------------------------------------------------------\n",
      "Intercept  -5028.2675   1088.739     -4.618      0.000   -7164.095   -2892.440\n",
      "bmi          398.0997     31.985     12.446      0.000     335.353     460.846\n",
      "smoker      2.358e+04    477.118     49.416      0.000    2.26e+04    2.45e+04\n",
      "children     602.9831    159.805      3.773      0.000     289.486     916.480\n",
      "region       406.3688    176.544      2.302      0.021      60.035     752.702\n",
      "==============================================================================\n",
      "Omnibus:                      160.032   Durbin-Watson:                   2.043\n",
      "Prob(Omnibus):                  0.000   Jarque-Bera (JB):              252.576\n",
      "Skew:                           0.826   Prob(JB):                     1.42e-55\n",
      "Kurtosis:                       4.341   Cond. No.                         178.\n",
      "==============================================================================\n",
      "\n",
      "Notes:\n",
      "[1] Standard Errors assume that the covariance matrix of the errors is correctly specified.\n"
     ]
    }
   ],
   "source": [
    "model3 = ols(\"charges ~ bmi + smoker + children + region\", data=df).fit()\n",
    "print(model3.summary())\n"
   ]
  },
  {
   "cell_type": "markdown",
   "metadata": {},
   "source": [
    "### CP Mallows"
   ]
  },
  {
   "cell_type": "code",
   "execution_count": 529,
   "metadata": {},
   "outputs": [
    {
     "name": "stdout",
     "output_type": "stream",
     "text": [
      "Best Subset of Predictors: ('age', 'bmi', 'children', 'smoker', 'region')\n",
      "Corresponding Cp Value: 36861035.4408294\n"
     ]
    }
   ],
   "source": [
    "import numpy as np\n",
    "import statsmodels.api as sm\n",
    "import itertools\n",
    "\n",
    "\n",
    "# Assuming 'data' is your DataFrame\n",
    "X = df[['age', 'sex', 'bmi', 'children', 'smoker', 'region']]\n",
    "y = df['charges']\n",
    "\n",
    "# Add a constant to the predictor matrix\n",
    "X = sm.add_constant(X)\n",
    "\n",
    "# Get the number of predictors\n",
    "num_predictors = X.shape[1] - 1\n",
    "\n",
    "# Generate all possible subsets of predictors\n",
    "all_possible_subsets_of_predictors = []\n",
    "for i in range(1, num_predictors + 1):\n",
    "    subsets_i = itertools.combinations(X.columns[1:], i)\n",
    "    all_possible_subsets_of_predictors.extend(subsets_i)\n",
    "\n",
    "# Store Cp values for each model\n",
    "cp_values = []\n",
    "\n",
    "# Loop through different models\n",
    "for predictor_subset in all_possible_subsets_of_predictors:\n",
    "    # Fit the model with the subset of predictors\n",
    "    X_subset = X[list(predictor_subset) + ['const']]\n",
    "    model = sm.OLS(y, X_subset).fit()\n",
    "    \n",
    "    # Calculate Cp for this model\n",
    "    residuals = model.resid\n",
    "    df_model = len(predictor_subset) + 1  # Number of predictors + intercept\n",
    "    df_residual = len(residuals) - df_model\n",
    "    Cp = (1/len(df)) * (np.sum(residuals**2) + 2 * df_model * (model.mse_resid))\n",
    "    \n",
    "    # Append Cp value to cp_values\n",
    "    cp_values.append(Cp)\n",
    "\n",
    "# Find the model with the minimum Cp\n",
    "best_model_index = np.argmin(cp_values)\n",
    "best_model_subset = all_possible_subsets_of_predictors[best_model_index]\n",
    "\n",
    "# Print the results\n",
    "print(f\"Best Subset of Predictors: {best_model_subset}\")\n",
    "print(f\"Corresponding Cp Value: {cp_values[best_model_index]}\")\n"
   ]
  },
  {
   "cell_type": "code",
   "execution_count": null,
   "metadata": {},
   "outputs": [],
   "source": []
  },
  {
   "cell_type": "markdown",
   "metadata": {},
   "source": [
    "# Sensitivity Analysis\n",
    "\n",
    "In the model constructed in Part 1 perform sensitivity analysis. Use traditional methods like search for outliers in studentized residuals, check of homoskedasticity and verification of residuals independence. Apply also more advanced tools like DFFITS and DFBETAS. Consider eliminating some very outlying and/or influential observations and recalculation of your model. Explain whether removing some data improves the fit. Explain also why the data you have eliminated were outlying and/or influential.\n",
    "\n",
    "Create a summary of your results and provide a final comment on the usefulness of your model.\n"
   ]
  },
  {
   "cell_type": "code",
   "execution_count": 530,
   "metadata": {},
   "outputs": [],
   "source": [
    "import numpy as np\n",
    "import pandas as pd\n",
    "import statsmodels.api as sm\n",
    "from statsmodels.formula.api import ols\n",
    "import matplotlib.pyplot as plt\n",
    "import patsy"
   ]
  },
  {
   "cell_type": "code",
   "execution_count": 531,
   "metadata": {},
   "outputs": [
    {
     "data": {
      "text/plain": [
       "\"\\nmodel_expr = 'charges ~ age + bmi + smoker + children + region'\\ny, X = patsy.dmatrices(model_expr, data=df, return_type='dataframe')\\n\\nmask = np.random.rand(len(X)) < 0.8\\nX_train = X[mask]\\ny_train = y[mask]\\nX_test = X[~mask]\\ny_test = y[~mask]\\n\""
      ]
     },
     "execution_count": 531,
     "metadata": {},
     "output_type": "execute_result"
    }
   ],
   "source": [
    "model = ols(\"charges ~ age + smoker + children + region\", data=df).fit()\n",
    "#model_prediction = model.get_prediction(df[['age', 'bmi', 'smoker', 'children', 'region']])\n",
    "#y_pred = model.predict(df[['age', 'bmi', 'smoker', 'children', 'region']])\n",
    "'''\n",
    "model_expr = 'charges ~ age + bmi + smoker + children + region'\n",
    "y, X = patsy.dmatrices(model_expr, data=df, return_type='dataframe')\n",
    "\n",
    "mask = np.random.rand(len(X)) < 0.8\n",
    "X_train = X[mask]\n",
    "y_train = y[mask]\n",
    "X_test = X[~mask]\n",
    "y_test = y[~mask]\n",
    "'''"
   ]
  },
  {
   "cell_type": "code",
   "execution_count": 532,
   "metadata": {},
   "outputs": [
    {
     "name": "stdout",
     "output_type": "stream",
     "text": [
      "                            OLS Regression Results                            \n",
      "==============================================================================\n",
      "Dep. Variable:                charges   R-squared:                       0.724\n",
      "Model:                            OLS   Adj. R-squared:                  0.723\n",
      "Method:                 Least Squares   F-statistic:                     873.2\n",
      "Date:                Wed, 13 Dec 2023   Prob (F-statistic):               0.00\n",
      "Time:                        17:58:52   Log-Likelihood:                -13617.\n",
      "No. Observations:                1338   AIC:                         2.724e+04\n",
      "Df Residuals:                    1333   BIC:                         2.727e+04\n",
      "Df Model:                           4                                         \n",
      "Covariance Type:            nonrobust                                         \n",
      "==============================================================================\n",
      "                 coef    std err          t      P>|t|      [0.025      0.975]\n",
      "------------------------------------------------------------------------------\n",
      "Intercept  -2950.1138    593.462     -4.971      0.000   -4114.335   -1785.893\n",
      "age          273.0958     12.423     21.984      0.000     248.726     297.466\n",
      "smoker      2.384e+04    431.976     55.193      0.000     2.3e+04    2.47e+04\n",
      "children     487.6409    144.764      3.369      0.001     203.650     771.631\n",
      "region        65.2517    157.798      0.414      0.679    -244.308     374.812\n",
      "==============================================================================\n",
      "Omnibus:                      265.112   Durbin-Watson:                   2.089\n",
      "Prob(Omnibus):                  0.000   Jarque-Bera (JB):              646.364\n",
      "Skew:                           1.067   Prob(JB):                    4.40e-141\n",
      "Kurtosis:                       5.653   Cond. No.                         145.\n",
      "==============================================================================\n",
      "\n",
      "Notes:\n",
      "[1] Standard Errors assume that the covariance matrix of the errors is correctly specified.\n"
     ]
    }
   ],
   "source": [
    "print(model.summary())"
   ]
  },
  {
   "cell_type": "code",
   "execution_count": 533,
   "metadata": {},
   "outputs": [],
   "source": [
    "#model = sm.OLS(y_train, X_train)\n",
    "#results = model.fit()\n",
    "#print(results.summary())"
   ]
  },
  {
   "cell_type": "code",
   "execution_count": null,
   "metadata": {},
   "outputs": [],
   "source": []
  },
  {
   "cell_type": "markdown",
   "metadata": {},
   "source": [
    "### Outliers in student residuals"
   ]
  },
  {
   "cell_type": "code",
   "execution_count": 534,
   "metadata": {},
   "outputs": [
    {
     "name": "stdout",
     "output_type": "stream",
     "text": [
      "      student_resid   unadj_p  bonf(p)\n",
      "0         -1.448400  0.147741      1.0\n",
      "1         -0.124530  0.900914      1.0\n",
      "2         -0.278907  0.780360      1.0\n",
      "3          2.484568  0.013093      1.0\n",
      "4         -0.322213  0.747342      1.0\n",
      "...             ...       ...      ...\n",
      "1333      -0.266672  0.789763      1.0\n",
      "1334       0.007013  0.994406      1.0\n",
      "1335      -0.062997  0.949778      1.0\n",
      "1336      -0.122099  0.902839      1.0\n",
      "1337      -1.344545  0.179001      1.0\n",
      "\n",
      "[1338 rows x 3 columns]\n"
     ]
    }
   ],
   "source": [
    "#calculate studentized residuals\n",
    "stud_res = model.outlier_test()\n",
    "\n",
    "#display studentized residuals\n",
    "print(stud_res)"
   ]
  },
  {
   "cell_type": "code",
   "execution_count": 535,
   "metadata": {},
   "outputs": [
    {
     "data": {
      "text/plain": [
       "Text(0, 0.5, 'Studentized Residuals')"
      ]
     },
     "execution_count": 535,
     "metadata": {},
     "output_type": "execute_result"
    },
    {
     "data": {
      "image/png": "[encoded data removed]",
      "text/plain": [
       "<Figure size 432x288 with 1 Axes>"
      ]
     },
     "metadata": {
      "needs_background": "light"
     },
     "output_type": "display_data"
    }
   ],
   "source": [
    "x = df['charges']\n",
    "y = stud_res['student_resid']\n",
    "\n",
    "\n",
    "plt.scatter(x, y)\n",
    "plt.axhline(y=0, color='black', linestyle='--')\n",
    "plt.xlabel('Charges')\n",
    "plt.ylabel('Studentized Residuals')\n"
   ]
  },
  {
   "cell_type": "code",
   "execution_count": 536,
   "metadata": {},
   "outputs": [
    {
     "name": "stdout",
     "output_type": "stream",
     "text": [
      "                            OLS Regression Results                            \n",
      "==============================================================================\n",
      "Dep. Variable:                charges   R-squared:                       0.724\n",
      "Model:                            OLS   Adj. R-squared:                  0.723\n",
      "Method:                 Least Squares   F-statistic:                     873.2\n",
      "Date:                Wed, 13 Dec 2023   Prob (F-statistic):               0.00\n",
      "Time:                        17:58:54   Log-Likelihood:                -13617.\n",
      "No. Observations:                1338   AIC:                         2.724e+04\n",
      "Df Residuals:                    1333   BIC:                         2.727e+04\n",
      "Df Model:                           4                                         \n",
      "Covariance Type:            nonrobust                                         \n",
      "==============================================================================\n",
      "                 coef    std err          t      P>|t|      [0.025      0.975]\n",
      "------------------------------------------------------------------------------\n",
      "Intercept  -2950.1138    593.462     -4.971      0.000   -4114.335   -1785.893\n",
      "age          273.0958     12.423     21.984      0.000     248.726     297.466\n",
      "smoker      2.384e+04    431.976     55.193      0.000     2.3e+04    2.47e+04\n",
      "children     487.6409    144.764      3.369      0.001     203.650     771.631\n",
      "region        65.2517    157.798      0.414      0.679    -244.308     374.812\n",
      "==============================================================================\n",
      "Omnibus:                      265.112   Durbin-Watson:                   2.089\n",
      "Prob(Omnibus):                  0.000   Jarque-Bera (JB):              646.364\n",
      "Skew:                           1.067   Prob(JB):                    4.40e-141\n",
      "Kurtosis:                       5.653   Cond. No.                         145.\n",
      "==============================================================================\n",
      "\n",
      "Notes:\n",
      "[1] Standard Errors assume that the covariance matrix of the errors is correctly specified.\n"
     ]
    }
   ],
   "source": [
    "#remove all points with studentized residuals greater than 3\n",
    "#df = df.drop(np.where(stud_res.iloc[:,0] > 3)[0])\n",
    "\n",
    "#fit_multivar_regression(['age','bmi','smoker'])\n",
    "model4 = ols(\"charges ~ age + smoker + children + region\", data=df).fit()\n",
    "print(model4.summary())"
   ]
  },
  {
   "cell_type": "code",
   "execution_count": null,
   "metadata": {},
   "outputs": [],
   "source": []
  },
  {
   "cell_type": "markdown",
   "metadata": {},
   "source": [
    "### Homoskedacity"
   ]
  },
  {
   "cell_type": "code",
   "execution_count": 537,
   "metadata": {},
   "outputs": [
    {
     "data": {
      "image/png": "[encoded data removed]",
      "text/plain": [
       "<Figure size 432x288 with 1 Axes>"
      ]
     },
     "metadata": {
      "needs_background": "light"
     },
     "output_type": "display_data"
    }
   ],
   "source": [
    "#test homoskedacity\n",
    "residuals = model.resid\n",
    "y_pred = model.predict(df[['age', 'smoker', 'children', 'region']])\n",
    "plt.scatter(y_pred, residuals)\n",
    "plt.xlabel(\"Predicted Values\")\n",
    "plt.ylabel(\"Residuals\")\n",
    "plt.title(\"Homoscedasticity Check\")\n",
    "plt.show()\n",
    "\n"
   ]
  },
  {
   "cell_type": "code",
   "execution_count": 538,
   "metadata": {},
   "outputs": [
    {
     "data": {
      "text/plain": [
       "0       26080.902201\n",
       "1        2518.502915\n",
       "2        6224.742532\n",
       "3        6192.550481\n",
       "4        5919.454697\n",
       "            ...     \n",
       "1333    12298.101475\n",
       "1334     2161.365411\n",
       "1335     2030.862028\n",
       "1336     2784.897688\n",
       "1337    37681.428519\n",
       "Length: 1338, dtype: float64"
      ]
     },
     "execution_count": 538,
     "metadata": {},
     "output_type": "execute_result"
    }
   ],
   "source": [
    "y_pred"
   ]
  },
  {
   "cell_type": "markdown",
   "metadata": {},
   "source": [
    "### Residuals Independence"
   ]
  },
  {
   "cell_type": "markdown",
   "metadata": {},
   "source": [
    "### DFFITS"
   ]
  },
  {
   "cell_type": "code",
   "execution_count": 539,
   "metadata": {},
   "outputs": [
    {
     "data": {
      "text/plain": [
       "array([-0.12201565, -0.0066212 , -0.01658164, ..., -0.00365568,\n",
       "       -0.00787512, -0.10837134])"
      ]
     },
     "execution_count": 539,
     "metadata": {},
     "output_type": "execute_result"
    }
   ],
   "source": [
    "infl = model.get_influence()\n",
    "sm_fr = infl.summary_frame()\n",
    "dffits = model.get_influence().dffits[0]\n",
    "dffits"
   ]
  },
  {
   "cell_type": "markdown",
   "metadata": {},
   "source": [
    "### DFBETAS"
   ]
  },
  {
   "cell_type": "code",
   "execution_count": 540,
   "metadata": {},
   "outputs": [
    {
     "data": {
      "text/plain": [
       "array([[-7.51230299e-02,  5.37870274e-02, -7.73199629e-02,\n",
       "         3.52732973e-02,  5.42635269e-02],\n",
       "       [-6.14471069e-03,  5.18865213e-03,  1.85566179e-03,\n",
       "         5.85062730e-05,  1.50270317e-03],\n",
       "       [-6.32509662e-03,  6.72096703e-03,  4.13087757e-03,\n",
       "        -1.23276058e-02,  3.14973494e-03],\n",
       "       ...,\n",
       "       [-3.44937255e-03,  2.56440367e-03,  9.26401410e-04,\n",
       "         1.46273855e-03,  7.84052329e-04],\n",
       "       [-7.31723926e-03,  4.26099927e-03,  1.77120587e-03,\n",
       "         2.91668592e-03,  4.54819768e-03],\n",
       "       [ 4.68258654e-02, -6.05893320e-02, -7.44033174e-02,\n",
       "         3.63402738e-02, -1.65799721e-02]])"
      ]
     },
     "execution_count": 540,
     "metadata": {},
     "output_type": "execute_result"
    }
   ],
   "source": [
    "dfbetas = model.get_influence().dfbetas\n",
    "dfbetas"
   ]
  },
  {
   "cell_type": "code",
   "execution_count": 541,
   "metadata": {},
   "outputs": [],
   "source": [
    "# Identify influentialobservations based on DFFITS\n",
    "influential_dffits = np.where(np.abs(dffits) > 2 * np.sqrt(len(x) * model.df_model / model.df_resid))\n",
    "\n",
    "# Identify influential observations based on DFBETAS for a specific coefficient\n",
    "coefficient_index = 0  # Index of the coefficient to analyze\n",
    "influential_dfbetas = np.where(np.abs(dfbetas[:, coefficient_index]) > 2 / np.sqrt(len(x)))"
   ]
  },
  {
   "cell_type": "code",
   "execution_count": 542,
   "metadata": {},
   "outputs": [
    {
     "data": {
      "text/plain": [
       "79"
      ]
     },
     "execution_count": 542,
     "metadata": {},
     "output_type": "execute_result"
    }
   ],
   "source": [
    "len(influential_dfbetas[0])"
   ]
  },
  {
   "cell_type": "code",
   "execution_count": 543,
   "metadata": {},
   "outputs": [
    {
     "name": "stdout",
     "output_type": "stream",
     "text": [
      "                            OLS Regression Results                            \n",
      "==============================================================================\n",
      "Dep. Variable:                charges   R-squared:                       0.765\n",
      "Model:                            OLS   Adj. R-squared:                  0.764\n",
      "Method:                 Least Squares   F-statistic:                     1018.\n",
      "Date:                Wed, 13 Dec 2023   Prob (F-statistic):               0.00\n",
      "Time:                        17:58:58   Log-Likelihood:                -12631.\n",
      "No. Observations:                1259   AIC:                         2.527e+04\n",
      "Df Residuals:                    1254   BIC:                         2.530e+04\n",
      "Df Model:                           4                                         \n",
      "Covariance Type:            nonrobust                                         \n",
      "==============================================================================\n",
      "                 coef    std err          t      P>|t|      [0.025      0.975]\n",
      "------------------------------------------------------------------------------\n",
      "Intercept  -4261.1208    552.813     -7.708      0.000   -5345.661   -3176.581\n",
      "age          293.2592     11.337     25.868      0.000     271.018     315.500\n",
      "smoker      2.399e+04    404.787     59.277      0.000    2.32e+04    2.48e+04\n",
      "children     421.1259    129.021      3.264      0.001     168.005     674.247\n",
      "region       126.7253    141.336      0.897      0.370    -150.556     404.007\n",
      "==============================================================================\n",
      "Omnibus:                      264.559   Durbin-Watson:                   2.087\n",
      "Prob(Omnibus):                  0.000   Jarque-Bera (JB):              955.131\n",
      "Skew:                           0.988   Prob(JB):                    3.94e-208\n",
      "Kurtosis:                       6.782   Cond. No.                         152.\n",
      "==============================================================================\n",
      "\n",
      "Notes:\n",
      "[1] Standard Errors assume that the covariance matrix of the errors is correctly specified.\n"
     ]
    }
   ],
   "source": [
    "#delete influential points from df\n",
    "df = df.drop(influential_dfbetas[0])\n",
    "model5 = ols(\"charges ~ age + smoker + children + region\", data=df).fit()\n",
    "print(model5.summary())"
   ]
  },
  {
   "cell_type": "code",
   "execution_count": 544,
   "metadata": {},
   "outputs": [
    {
     "ename": "IndexError",
     "evalue": "index 1288 is out of bounds for axis 0 with size 1259",
     "output_type": "error",
     "traceback": [
      "\u001b[0;31m---------------------------------------------------------------------------\u001b[0m",
      "\u001b[0;31mIndexError\u001b[0m                                Traceback (most recent call last)",
      "Input \u001b[0;32mIn [544]\u001b[0m, in \u001b[0;36m<cell line: 4>\u001b[0;34m()\u001b[0m\n\u001b[1;32m      1\u001b[0m X \u001b[38;5;241m=\u001b[39m df[\u001b[38;5;124m'\u001b[39m\u001b[38;5;124mcharges\u001b[39m\u001b[38;5;124m'\u001b[39m]\n\u001b[1;32m      2\u001b[0m y \u001b[38;5;241m=\u001b[39m df[[\u001b[38;5;124m'\u001b[39m\u001b[38;5;124mage\u001b[39m\u001b[38;5;124m'\u001b[39m,\u001b[38;5;124m'\u001b[39m\u001b[38;5;124mbmi\u001b[39m\u001b[38;5;124m'\u001b[39m,\u001b[38;5;124m'\u001b[39m\u001b[38;5;124msmoker\u001b[39m\u001b[38;5;124m'\u001b[39m]]\n\u001b[0;32m----> 4\u001b[0m X_clean \u001b[38;5;241m=\u001b[39m \u001b[43mnp\u001b[49m\u001b[38;5;241;43m.\u001b[39;49m\u001b[43mdelete\u001b[49m\u001b[43m(\u001b[49m\u001b[43mX\u001b[49m\u001b[43m,\u001b[49m\u001b[43m \u001b[49m\u001b[43minfluential_dfbetas\u001b[49m\u001b[43m,\u001b[49m\u001b[43m \u001b[49m\u001b[43maxis\u001b[49m\u001b[38;5;241;43m=\u001b[39;49m\u001b[38;5;241;43m0\u001b[39;49m\u001b[43m)\u001b[49m\n\u001b[1;32m      5\u001b[0m y_clean \u001b[38;5;241m=\u001b[39m np\u001b[38;5;241m.\u001b[39mdelete(y, influential_dfbetas, axis\u001b[38;5;241m=\u001b[39m\u001b[38;5;241m0\u001b[39m)\n\u001b[1;32m      7\u001b[0m \u001b[38;5;66;03m# Fit the model with the subset of predictors\u001b[39;00m\n",
      "File \u001b[0;32m<__array_function__ internals>:200\u001b[0m, in \u001b[0;36mdelete\u001b[0;34m(*args, **kwargs)\u001b[0m\n",
      "File \u001b[0;32m~/.local/lib/python3.8/site-packages/numpy/lib/function_base.py:5235\u001b[0m, in \u001b[0;36mdelete\u001b[0;34m(arr, obj, axis)\u001b[0m\n\u001b[1;32m   5233\u001b[0m \u001b[38;5;28;01melse\u001b[39;00m:\n\u001b[1;32m   5234\u001b[0m     keep \u001b[38;5;241m=\u001b[39m ones(N, dtype\u001b[38;5;241m=\u001b[39m\u001b[38;5;28mbool\u001b[39m)\n\u001b[0;32m-> 5235\u001b[0m     keep[obj,] \u001b[38;5;241m=\u001b[39m \u001b[38;5;28;01mFalse\u001b[39;00m\n\u001b[1;32m   5237\u001b[0m slobj[axis] \u001b[38;5;241m=\u001b[39m keep\n\u001b[1;32m   5238\u001b[0m new \u001b[38;5;241m=\u001b[39m arr[\u001b[38;5;28mtuple\u001b[39m(slobj)]\n",
      "\u001b[0;31mIndexError\u001b[0m: index 1288 is out of bounds for axis 0 with size 1259"
     ]
    }
   ],
   "source": [
    "X = df['charges']\n",
    "y = df[['age','bmi','smoker']]\n",
    "\n",
    "X_clean = np.delete(X, influential_dfbetas, axis=0)\n",
    "y_clean = np.delete(y, influential_dfbetas, axis=0)\n",
    "\n",
    "# Fit the model with the subset of predictors\n",
    "model_clean = sm.OLS(y_clean, sm.add_constant(X_clean)).fit()\n",
    "\n",
    "\n"
   ]
  },
  {
   "cell_type": "code",
   "execution_count": null,
   "metadata": {},
   "outputs": [
    {
     "ename": "ValueError",
     "evalue": "shapes (1259,3) and (1259,3) not aligned: 3 (dim 1) != 1259 (dim 0)",
     "output_type": "error",
     "traceback": [
      "\u001b[0;31m---------------------------------------------------------------------------\u001b[0m",
      "\u001b[0;31mValueError\u001b[0m                                Traceback (most recent call last)",
      "Input \u001b[0;32mIn [485]\u001b[0m, in \u001b[0;36m<cell line: 2>\u001b[0;34m()\u001b[0m\n\u001b[1;32m      1\u001b[0m \u001b[38;5;66;03m#get statistics from the model\u001b[39;00m\n\u001b[0;32m----> 2\u001b[0m \u001b[38;5;28mprint\u001b[39m(\u001b[43mmodel_clean\u001b[49m\u001b[38;5;241;43m.\u001b[39;49m\u001b[43msummary\u001b[49m\u001b[43m(\u001b[49m\u001b[43m)\u001b[49m)\n",
      "File \u001b[0;32m~/.local/lib/python3.8/site-packages/statsmodels/regression/linear_model.py:2774\u001b[0m, in \u001b[0;36mRegressionResults.summary\u001b[0;34m(self, yname, xname, title, alpha, slim)\u001b[0m\n\u001b[1;32m   2770\u001b[0m     top_left\u001b[38;5;241m.\u001b[39mappend((\u001b[38;5;124m'\u001b[39m\u001b[38;5;124mCovariance Type:\u001b[39m\u001b[38;5;124m'\u001b[39m, [\u001b[38;5;28mself\u001b[39m\u001b[38;5;241m.\u001b[39mcov_type]))\n\u001b[1;32m   2772\u001b[0m rsquared_type \u001b[38;5;241m=\u001b[39m \u001b[38;5;124m'\u001b[39m\u001b[38;5;124m'\u001b[39m \u001b[38;5;28;01mif\u001b[39;00m \u001b[38;5;28mself\u001b[39m\u001b[38;5;241m.\u001b[39mk_constant \u001b[38;5;28;01melse\u001b[39;00m \u001b[38;5;124m'\u001b[39m\u001b[38;5;124m (uncentered)\u001b[39m\u001b[38;5;124m'\u001b[39m\n\u001b[1;32m   2773\u001b[0m top_right \u001b[38;5;241m=\u001b[39m [(\u001b[38;5;124m'\u001b[39m\u001b[38;5;124mR-squared\u001b[39m\u001b[38;5;124m'\u001b[39m \u001b[38;5;241m+\u001b[39m rsquared_type \u001b[38;5;241m+\u001b[39m \u001b[38;5;124m'\u001b[39m\u001b[38;5;124m:\u001b[39m\u001b[38;5;124m'\u001b[39m,\n\u001b[0;32m-> 2774\u001b[0m               [\u001b[38;5;124m\"\u001b[39m\u001b[38;5;132;01m%#8.3f\u001b[39;00m\u001b[38;5;124m\"\u001b[39m \u001b[38;5;241m%\u001b[39m \u001b[38;5;28;43mself\u001b[39;49m\u001b[38;5;241;43m.\u001b[39;49m\u001b[43mrsquared\u001b[49m]),\n\u001b[1;32m   2775\u001b[0m              (\u001b[38;5;124m'\u001b[39m\u001b[38;5;124mAdj. R-squared\u001b[39m\u001b[38;5;124m'\u001b[39m \u001b[38;5;241m+\u001b[39m rsquared_type \u001b[38;5;241m+\u001b[39m \u001b[38;5;124m'\u001b[39m\u001b[38;5;124m:\u001b[39m\u001b[38;5;124m'\u001b[39m,\n\u001b[1;32m   2776\u001b[0m               [\u001b[38;5;124m\"\u001b[39m\u001b[38;5;132;01m%#8.3f\u001b[39;00m\u001b[38;5;124m\"\u001b[39m \u001b[38;5;241m%\u001b[39m \u001b[38;5;28mself\u001b[39m\u001b[38;5;241m.\u001b[39mrsquared_adj]),\n\u001b[1;32m   2777\u001b[0m              (\u001b[38;5;124m'\u001b[39m\u001b[38;5;124mF-statistic:\u001b[39m\u001b[38;5;124m'\u001b[39m, [\u001b[38;5;124m\"\u001b[39m\u001b[38;5;132;01m%#8.4g\u001b[39;00m\u001b[38;5;124m\"\u001b[39m \u001b[38;5;241m%\u001b[39m \u001b[38;5;28mself\u001b[39m\u001b[38;5;241m.\u001b[39mfvalue]),\n\u001b[1;32m   2778\u001b[0m              (\u001b[38;5;124m'\u001b[39m\u001b[38;5;124mProb (F-statistic):\u001b[39m\u001b[38;5;124m'\u001b[39m, [\u001b[38;5;124m\"\u001b[39m\u001b[38;5;132;01m%#6.3g\u001b[39;00m\u001b[38;5;124m\"\u001b[39m \u001b[38;5;241m%\u001b[39m \u001b[38;5;28mself\u001b[39m\u001b[38;5;241m.\u001b[39mf_pvalue]),\n\u001b[1;32m   2779\u001b[0m              (\u001b[38;5;124m'\u001b[39m\u001b[38;5;124mLog-Likelihood:\u001b[39m\u001b[38;5;124m'\u001b[39m, \u001b[38;5;28;01mNone\u001b[39;00m),\n\u001b[1;32m   2780\u001b[0m              (\u001b[38;5;124m'\u001b[39m\u001b[38;5;124mAIC:\u001b[39m\u001b[38;5;124m'\u001b[39m, [\u001b[38;5;124m\"\u001b[39m\u001b[38;5;132;01m%#8.4g\u001b[39;00m\u001b[38;5;124m\"\u001b[39m \u001b[38;5;241m%\u001b[39m \u001b[38;5;28mself\u001b[39m\u001b[38;5;241m.\u001b[39maic]),\n\u001b[1;32m   2781\u001b[0m              (\u001b[38;5;124m'\u001b[39m\u001b[38;5;124mBIC:\u001b[39m\u001b[38;5;124m'\u001b[39m, [\u001b[38;5;124m\"\u001b[39m\u001b[38;5;132;01m%#8.4g\u001b[39;00m\u001b[38;5;124m\"\u001b[39m \u001b[38;5;241m%\u001b[39m \u001b[38;5;28mself\u001b[39m\u001b[38;5;241m.\u001b[39mbic])\n\u001b[1;32m   2782\u001b[0m              ]\n\u001b[1;32m   2784\u001b[0m \u001b[38;5;28;01mif\u001b[39;00m slim:\n\u001b[1;32m   2785\u001b[0m     slimlist \u001b[38;5;241m=\u001b[39m [\u001b[38;5;124m'\u001b[39m\u001b[38;5;124mDep. Variable:\u001b[39m\u001b[38;5;124m'\u001b[39m, \u001b[38;5;124m'\u001b[39m\u001b[38;5;124mModel:\u001b[39m\u001b[38;5;124m'\u001b[39m, \u001b[38;5;124m'\u001b[39m\u001b[38;5;124mNo. Observations:\u001b[39m\u001b[38;5;124m'\u001b[39m,\n\u001b[1;32m   2786\u001b[0m                 \u001b[38;5;124m'\u001b[39m\u001b[38;5;124mCovariance Type:\u001b[39m\u001b[38;5;124m'\u001b[39m, \u001b[38;5;124m'\u001b[39m\u001b[38;5;124mR-squared:\u001b[39m\u001b[38;5;124m'\u001b[39m, \u001b[38;5;124m'\u001b[39m\u001b[38;5;124mAdj. R-squared:\u001b[39m\u001b[38;5;124m'\u001b[39m,\n\u001b[1;32m   2787\u001b[0m                 \u001b[38;5;124m'\u001b[39m\u001b[38;5;124mF-statistic:\u001b[39m\u001b[38;5;124m'\u001b[39m, \u001b[38;5;124m'\u001b[39m\u001b[38;5;124mProb (F-statistic):\u001b[39m\u001b[38;5;124m'\u001b[39m]\n",
      "File \u001b[0;32m~/.local/lib/python3.8/site-packages/pandas/_libs/properties.pyx:36\u001b[0m, in \u001b[0;36mpandas._libs.properties.CachedProperty.__get__\u001b[0;34m()\u001b[0m\n",
      "File \u001b[0;32m~/.local/lib/python3.8/site-packages/statsmodels/regression/linear_model.py:1781\u001b[0m, in \u001b[0;36mRegressionResults.rsquared\u001b[0;34m(self)\u001b[0m\n\u001b[1;32m   1773\u001b[0m \u001b[38;5;124;03m\"\"\"\u001b[39;00m\n\u001b[1;32m   1774\u001b[0m \u001b[38;5;124;03mR-squared of the model.\u001b[39;00m\n\u001b[1;32m   1775\u001b[0m \n\u001b[0;32m   (...)\u001b[0m\n\u001b[1;32m   1778\u001b[0m \u001b[38;5;124;03momitted.\u001b[39;00m\n\u001b[1;32m   1779\u001b[0m \u001b[38;5;124;03m\"\"\"\u001b[39;00m\n\u001b[1;32m   1780\u001b[0m \u001b[38;5;28;01mif\u001b[39;00m \u001b[38;5;28mself\u001b[39m\u001b[38;5;241m.\u001b[39mk_constant:\n\u001b[0;32m-> 1781\u001b[0m     \u001b[38;5;28;01mreturn\u001b[39;00m \u001b[38;5;241m1\u001b[39m \u001b[38;5;241m-\u001b[39m \u001b[38;5;28;43mself\u001b[39;49m\u001b[38;5;241;43m.\u001b[39;49m\u001b[43mssr\u001b[49m\u001b[38;5;241m/\u001b[39m\u001b[38;5;28mself\u001b[39m\u001b[38;5;241m.\u001b[39mcentered_tss\n\u001b[1;32m   1782\u001b[0m \u001b[38;5;28;01melse\u001b[39;00m:\n\u001b[1;32m   1783\u001b[0m     \u001b[38;5;28;01mreturn\u001b[39;00m \u001b[38;5;241m1\u001b[39m \u001b[38;5;241m-\u001b[39m \u001b[38;5;28mself\u001b[39m\u001b[38;5;241m.\u001b[39mssr\u001b[38;5;241m/\u001b[39m\u001b[38;5;28mself\u001b[39m\u001b[38;5;241m.\u001b[39muncentered_tss\n",
      "File \u001b[0;32m~/.local/lib/python3.8/site-packages/pandas/_libs/properties.pyx:36\u001b[0m, in \u001b[0;36mpandas._libs.properties.CachedProperty.__get__\u001b[0;34m()\u001b[0m\n",
      "File \u001b[0;32m~/.local/lib/python3.8/site-packages/statsmodels/regression/linear_model.py:1722\u001b[0m, in \u001b[0;36mRegressionResults.ssr\u001b[0;34m(self)\u001b[0m\n\u001b[1;32m   1720\u001b[0m \u001b[38;5;124;03m\"\"\"Sum of squared (whitened) residuals.\"\"\"\u001b[39;00m\n\u001b[1;32m   1721\u001b[0m wresid \u001b[38;5;241m=\u001b[39m \u001b[38;5;28mself\u001b[39m\u001b[38;5;241m.\u001b[39mwresid\n\u001b[0;32m-> 1722\u001b[0m \u001b[38;5;28;01mreturn\u001b[39;00m \u001b[43mnp\u001b[49m\u001b[38;5;241;43m.\u001b[39;49m\u001b[43mdot\u001b[49m\u001b[43m(\u001b[49m\u001b[43mwresid\u001b[49m\u001b[43m,\u001b[49m\u001b[43m \u001b[49m\u001b[43mwresid\u001b[49m\u001b[43m)\u001b[49m\n",
      "File \u001b[0;32m<__array_function__ internals>:200\u001b[0m, in \u001b[0;36mdot\u001b[0;34m(*args, **kwargs)\u001b[0m\n",
      "\u001b[0;31mValueError\u001b[0m: shapes (1259,3) and (1259,3) not aligned: 3 (dim 1) != 1259 (dim 0)"
     ]
    }
   ],
   "source": [
    "#get statistics from the model\n",
    "print(model_clean.summary())"
   ]
  }
 ],
 "metadata": {
  "kernelspec": {
   "display_name": "Python 3",
   "language": "python",
   "name": "python3"
  },
  "language_info": {
   "codemirror_mode": {
    "name": "ipython",
    "version": 3
   },
   "file_extension": ".py",
   "mimetype": "text/x-python",
   "name": "python",
   "nbconvert_exporter": "python",
   "pygments_lexer": "ipython3",
   "version": "3.8.10"
  }
 },
 "nbformat": 4,
 "nbformat_minor": 2
}
